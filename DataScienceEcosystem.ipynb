{
  "metadata": {
    "kernelspec": {
      "name": "python",
      "display_name": "Python (Pyodide)",
      "language": "python"
    },
    "language_info": {
      "codemirror_mode": {
        "name": "python",
        "version": 3
      },
      "file_extension": ".py",
      "mimetype": "text/x-python",
      "name": "python",
      "nbconvert_exporter": "python",
      "pygments_lexer": "ipython3",
      "version": "3.8"
    }
  },
  "nbformat_minor": 4,
  "nbformat": 4,
  "cells": [
    {
      "cell_type": "markdown",
      "source": "# Data Science Ecosystem\n\nIn this notebook, Data Science Tools and Ecosystems are summaryzed.",
      "metadata": {}
    },
    {
      "cell_type": "markdown",
      "source": "## Popular Languages\nSome of the most popular languages used un this field are:\n1. Python\n2. R\n3. SQL\n4. Julia\n5. Scala",
      "metadata": {}
    },
    {
      "cell_type": "markdown",
      "source": "## Popular Libraries\nSome of the most popular libraries used in Data Science are:\n1. Panda\n2. Numpy\n3. Matplotlib\n4. Scikit-learn\n5. TensorFlow",
      "metadata": {}
    },
    {
      "cell_type": "markdown",
      "source": "| Data Science Tools|\n| ----------------- |\n| Jupyter Notebooks |\n| Apache Spark      |\n| Apache Hadoop     |",
      "metadata": {}
    },
    {
      "cell_type": "markdown",
      "source": "### Below are a few examples of evaluating arithmetic expressions in Python",
      "metadata": {}
    },
    {
      "cell_type": "code",
      "source": "#This a simple arithmetic expression to mutiply then add integers\n(3*4)+5",
      "metadata": {
        "trusted": true
      },
      "outputs": [
        {
          "execution_count": 23,
          "output_type": "execute_result",
          "data": {
            "text/plain": "17"
          },
          "metadata": {}
        }
      ],
      "execution_count": 23
    },
    {
      "cell_type": "code",
      "source": "#This will convert 200 minutes to hours by diving by 60\n200/60",
      "metadata": {
        "trusted": true
      },
      "outputs": [
        {
          "execution_count": 24,
          "output_type": "execute_result",
          "data": {
            "text/plain": "3.3333333333333335"
          },
          "metadata": {}
        }
      ],
      "execution_count": 24
    },
    {
      "cell_type": "markdown",
      "source": "**Objectives**\n* List of the most popular languages used in Data Science.\n* List of the most popular libraries used by Data Scientists.\n* Demostrate the use of features sucha as the usage of markdowns to create titles.\n* Demostrate the use of functions to create a table of content and arithmetic expressions.",
      "metadata": {}
    },
    {
      "cell_type": "markdown",
      "source": "**Objectives**\n* List of the most popular languages used in Data Science.\n* List of the most popular libraries used by Data Scientists.\n* Demostrate the use of features sucha as the usage of markdowns to create titles.\n* Demostrate the use of functions to create a table of content and arithmetic expressions.",
      "metadata": {}
    },
    {
      "cell_type": "markdown",
      "source": "## Author\nGabriela Oyakawa",
      "metadata": {}
    },
    {
      "cell_type": "markdown",
      "source": "## Author\nGabriela Oyakawa",
      "metadata": {}
    },
    {
      "cell_type": "markdown",
      "source": "##",
      "metadata": {}
    },
    {
      "cell_type": "code",
      "source": "",
      "metadata": {
        "trusted": true
      },
      "outputs": [],
      "execution_count": null
    }
  ]
}